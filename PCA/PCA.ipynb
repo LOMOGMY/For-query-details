{
 "cells": [
  {
   "cell_type": "markdown",
   "metadata": {},
   "source": [
    "<img src=a.png>"
   ]
  },
  {
   "cell_type": "code",
   "execution_count": 1,
   "metadata": {},
   "outputs": [],
   "source": [
    "from sklearn import datasets\n",
    "digits = datasets.load_digits()\n",
    "x = digits.data\n",
    "y = digits.target       "
   ]
  },
  {
   "cell_type": "code",
   "execution_count": 22,
   "metadata": {},
   "outputs": [
    {
     "data": {
      "text/plain": [
       "array([[  0.,   0.,   5., ...,   0.,   0.,   0.],\n",
       "       [  0.,   0.,   0., ...,  10.,   0.,   0.],\n",
       "       [  0.,   0.,   0., ...,  16.,   9.,   0.],\n",
       "       ..., \n",
       "       [  0.,   0.,   1., ...,   6.,   0.,   0.],\n",
       "       [  0.,   0.,   2., ...,  12.,   0.,   0.],\n",
       "       [  0.,   0.,  10., ...,  12.,   1.,   0.]])"
      ]
     },
     "execution_count": 22,
     "metadata": {},
     "output_type": "execute_result"
    }
   ],
   "source": [
    "x"
   ]
  },
  {
   "cell_type": "code",
   "execution_count": 4,
   "metadata": {},
   "outputs": [
    {
     "name": "stdout",
     "output_type": "stream",
     "text": [
      "(1797, 64)\n",
      "(1797,)\n"
     ]
    }
   ],
   "source": [
    "print(x.shape)\n",
    "print(y.shape)"
   ]
  },
  {
   "cell_type": "code",
   "execution_count": 5,
   "metadata": {},
   "outputs": [
    {
     "data": {
      "text/plain": [
       "PCA(copy=True, iterated_power='auto', n_components=None, random_state=None,\n",
       "  svd_solver='auto', tol=0.0, whiten=False)"
      ]
     },
     "execution_count": 5,
     "metadata": {},
     "output_type": "execute_result"
    }
   ],
   "source": [
    "from sklearn import decomposition\n",
    "pca = decomposition.PCA()\n",
    "pca.fit(x)"
   ]
  },
  {
   "cell_type": "code",
   "execution_count": 7,
   "metadata": {},
   "outputs": [
    {
     "data": {
      "image/png": "[encoded data removed]",
      "text/plain": [
       "<Figure size 432x288 with 1 Axes>"
      ]
     },
     "metadata": {},
     "output_type": "display_data"
    }
   ],
   "source": [
    "import matplotlib.pyplot as plt\n",
    "plt.figure()\n",
    "plt.plot(pca.explained_variance_, 'k', linewidth=2)\n",
    "plt.xlabel('n_components', fontsize=16)\n",
    "plt.ylabel('explained_variance_', fontsize=16)\n",
    "plt.show()"
   ]
  },
  {
   "cell_type": "code",
   "execution_count": 21,
   "metadata": {},
   "outputs": [
    {
     "data": {
      "text/plain": [
       "array([  1.78907316e+02,   1.63626641e+02,   1.41709536e+02,\n",
       "         1.01044115e+02,   6.94744827e+01,   5.90756320e+01,\n",
       "         5.18556662e+01,   4.39906130e+01,   4.02885629e+01,\n",
       "         3.69912020e+01,   2.85031708e+01,   2.73059660e+01,\n",
       "         2.18893003e+01,   2.13124899e+01,   1.76269077e+01,\n",
       "         1.69374332e+01,   1.58425689e+01,   1.49961105e+01,\n",
       "         1.22276649e+01,   1.08808010e+01,   1.06876155e+01,\n",
       "         9.57726524e+00,   9.22126826e+00,   8.68553268e+00,\n",
       "         8.36095658e+00,   7.16179198e+00,   6.91588809e+00,\n",
       "         6.18950881e+00,   5.88171633e+00,   5.15299774e+00,\n",
       "         4.48879723e+00,   4.24451468e+00,   4.04518650e+00,\n",
       "         3.94120891e+00,   3.70440987e+00,   3.52968776e+00,\n",
       "         3.08285758e+00,   2.73627648e+00,   2.67062197e+00,\n",
       "         2.54029121e+00,   2.28171700e+00,   1.90618094e+00,\n",
       "         1.81615447e+00,   1.68902395e+00,   1.40119202e+00,\n",
       "         1.29149979e+00,   1.15828926e+00,   9.30701800e-01,\n",
       "         6.69477833e-01,   4.85794730e-01,   2.52210004e-01,\n",
       "         9.90976176e-02,   6.30956535e-02,   6.07039586e-02,\n",
       "         3.96441561e-02,   1.49422438e-02,   8.46835749e-03,\n",
       "         3.62164306e-03,   1.27634048e-03,   6.60902920e-04,\n",
       "         4.11993910e-04,   1.14223098e-30,   1.14223098e-30,\n",
       "         1.12479977e-30])"
      ]
     },
     "execution_count": 21,
     "metadata": {},
     "output_type": "execute_result"
    }
   ],
   "source": [
    "pca.explained_variance_  # 实际上就是特征值"
   ]
  },
  {
   "cell_type": "code",
   "execution_count": 29,
   "metadata": {},
   "outputs": [
    {
     "data": {
      "text/plain": [
       "array([  1.48905936e-01,   1.36187712e-01,   1.17945938e-01,\n",
       "         8.40997942e-02,   5.78241466e-02,   4.91691032e-02,\n",
       "         4.31598701e-02,   3.66137258e-02,   3.35324810e-02,\n",
       "         3.07880621e-02,   2.37234084e-02,   2.27269657e-02,\n",
       "         1.82186331e-02,   1.77385494e-02,   1.46710109e-02,\n",
       "         1.40971560e-02,   1.31858920e-02,   1.24813782e-02,\n",
       "         1.01771796e-02,   9.05617439e-03,   8.89538461e-03,\n",
       "         7.97123157e-03,   7.67493255e-03,   7.22903569e-03,\n",
       "         6.95888851e-03,   5.96081458e-03,   5.75614688e-03,\n",
       "         5.15157582e-03,   4.89539777e-03,   4.28887968e-03,\n",
       "         3.73606048e-03,   3.53274223e-03,   3.36683986e-03,\n",
       "         3.28029851e-03,   3.08320884e-03,   2.93778629e-03,\n",
       "         2.56588609e-03,   2.27742397e-03,   2.22277922e-03,\n",
       "         2.11430393e-03,   1.89909062e-03,   1.58652907e-03,\n",
       "         1.51159934e-03,   1.40578764e-03,   1.16622290e-03,\n",
       "         1.07492521e-03,   9.64053065e-04,   7.74630271e-04,\n",
       "         5.57211553e-04,   4.04330693e-04,   2.09916327e-04,\n",
       "         8.24797098e-05,   5.25149980e-05,   5.05243719e-05,\n",
       "         3.29961363e-05,   1.24365445e-05,   7.04827911e-06,\n",
       "         3.01432139e-06,   1.06230800e-06,   5.50074587e-07,\n",
       "         3.42905702e-07,   9.50687638e-34,   9.50687638e-34,\n",
       "         9.36179501e-34])"
      ]
     },
     "execution_count": 29,
     "metadata": {},
     "output_type": "execute_result"
    }
   ],
   "source": [
    "pca.explained_variance_ratio_  # 方差贡献率，上面每一项所占总和的比例"
   ]
  },
  {
   "cell_type": "code",
   "execution_count": 34,
   "metadata": {},
   "outputs": [
    {
     "data": {
      "text/plain": [
       "array([[ -1.77484909e-19,  -1.73094651e-02,  -2.23428835e-01, ...,\n",
       "         -8.94184677e-02,  -3.65977111e-02,  -1.14684954e-02],\n",
       "       [  3.27805401e-18,  -1.01064569e-02,  -4.90849204e-02, ...,\n",
       "          1.76697117e-01,   1.94547053e-02,  -6.69693895e-03],\n",
       "       [ -1.68358559e-18,   1.83420720e-02,   1.26475543e-01, ...,\n",
       "          2.32084163e-01,   1.67026563e-01,   3.48043832e-02],\n",
       "       ..., \n",
       "       [ -0.00000000e+00,   2.61942538e-16,  -5.77111388e-17, ...,\n",
       "          1.66297721e-16,  -1.34244738e-16,  -2.05953233e-17],\n",
       "       [ -0.00000000e+00,   1.01824512e-18,  -4.12362917e-17, ...,\n",
       "          1.39721970e-16,  -7.58926234e-17,  -5.21203872e-17],\n",
       "       [  1.00000000e+00,  -1.68983002e-17,   5.73338351e-18, ...,\n",
       "          8.66631300e-18,  -1.57615962e-17,   4.07058917e-18]])"
      ]
     },
     "execution_count": 34,
     "metadata": {},
     "output_type": "execute_result"
    }
   ],
   "source": [
    "pca.components_  # 特征值对应的特征向量"
   ]
  },
  {
   "cell_type": "code",
   "execution_count": null,
   "metadata": {},
   "outputs": [],
   "source": []
  }
 ],
 "metadata": {
  "kernelspec": {
   "display_name": "Python 3",
   "language": "python",
   "name": "python3"
  },
  "language_info": {
   "codemirror_mode": {
    "name": "ipython",
    "version": 3
   },
   "file_extension": ".py",
   "mimetype": "text/x-python",
   "name": "python",
   "nbconvert_exporter": "python",
   "pygments_lexer": "ipython3",
   "version": "3.6.3"
  }
 },
 "nbformat": 4,
 "nbformat_minor": 2
}
