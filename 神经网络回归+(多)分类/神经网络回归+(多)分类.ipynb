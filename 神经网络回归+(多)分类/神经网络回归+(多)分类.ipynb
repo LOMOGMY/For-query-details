{
 "cells": [
  {
   "cell_type": "markdown",
   "metadata": {},
   "source": [
    "# 回归"
   ]
  },
  {
   "cell_type": "markdown",
   "metadata": {},
   "source": [
    "<img src=1.png/>"
   ]
  },
  {
   "cell_type": "code",
   "execution_count": 9,
   "metadata": {},
   "outputs": [
    {
     "name": "stdout",
     "output_type": "stream",
     "text": [
      "loss is: 5.3509536\n",
      "loss is: 70582160.0\n",
      "loss is: 813770.7\n",
      "loss is: 9395.9\n",
      "loss is: 122.08873\n",
      "loss is: 15.168952\n",
      "loss is: 13.936254\n",
      "loss is: 13.92204\n",
      "loss is: 13.921877\n",
      "loss is: 13.921876\n",
      "loss is: 13.921875\n",
      "loss is: 13.921875\n",
      "loss is: 13.921875\n",
      "loss is: 13.921875\n",
      "loss is: 13.921875\n",
      "input is:[120, 5, 85]\n",
      "output is:15.375002\n"
     ]
    }
   ],
   "source": [
    "import numpy as np\n",
    "import tensorflow as tf\n",
    "\n",
    "x = [[80,3,50],[90,8,70],[180,20,120],[140,16,90]]\n",
    "y = [[11],[12.5],[20],[18]]\n",
    "# y = [11,12.5,20,18]\n",
    "x_pred = [[120,5,85]]\n",
    "\n",
    "tf_x = tf.placeholder(tf.float32, [None,3])     # input x\n",
    "tf_y = tf.placeholder(tf.float32, [None,1])     # input y\n",
    "\n",
    "# neural network layers\n",
    "l1 = tf.layers.dense(tf_x, 10, tf.nn.relu)          # hidden layer\n",
    "l2 = tf.layers.dense(l1,5,tf.nn.relu)              # # hidden layer\n",
    "output = tf.layers.dense(l2, 1)                     # output layer\n",
    "\n",
    "loss = tf.losses.mean_squared_error(tf_y, output)   # compute cost\n",
    "optimizer = tf.train.GradientDescentOptimizer(learning_rate=0.1)\n",
    "train_op = optimizer.minimize(loss)\n",
    "\n",
    "sess = tf.Session()                                 # control training and others\n",
    "sess.run(tf.global_variables_initializer())         # initialize var in graph\n",
    "\n",
    "\n",
    "for step in range(150):\n",
    "    # train and net output\n",
    "    _, l, pred = sess.run([train_op, loss, output], {tf_x: x, tf_y: y})\n",
    "    if step % 10 == 0:\n",
    "        print('loss is: ' + str(l))\n",
    "        # print('prediction is:' + str(pred))\n",
    "\n",
    "output_pred = sess.run(output,{tf_x:x_pred})\n",
    "print('input is:' + str(x_pred[0][:]))\n",
    "print('output is:' + str(output_pred[0][0]))"
   ]
  },
  {
   "cell_type": "markdown",
   "metadata": {},
   "source": [
    "# 基于多层感知器的softmax多分类"
   ]
  },
  {
   "cell_type": "code",
   "execution_count": 2,
   "metadata": {},
   "outputs": [
    {
     "name": "stdout",
     "output_type": "stream",
     "text": [
      "WARNING:tensorflow:Variable *= will be deprecated. Use variable.assign_mul if you want assignment to the variable value or 'x = x * y' if you want a new python Tensor object.\n",
      "Epoch 1/20\n",
      "1000/1000 [==============================] - 0s 380us/step - loss: 2.4385 - acc: 0.1010\n",
      "Epoch 2/20\n",
      "1000/1000 [==============================] - 0s 18us/step - loss: 2.4015 - acc: 0.1080\n",
      "Epoch 3/20\n",
      "1000/1000 [==============================] - 0s 19us/step - loss: 2.3424 - acc: 0.1120\n",
      "Epoch 4/20\n",
      "1000/1000 [==============================] - 0s 18us/step - loss: 2.3306 - acc: 0.1130\n",
      "Epoch 5/20\n",
      "1000/1000 [==============================] - 0s 18us/step - loss: 2.3300 - acc: 0.1120\n",
      "Epoch 6/20\n",
      "1000/1000 [==============================] - 0s 17us/step - loss: 2.3234 - acc: 0.1080\n",
      "Epoch 7/20\n",
      "1000/1000 [==============================] - 0s 16us/step - loss: 2.3186 - acc: 0.1010\n",
      "Epoch 8/20\n",
      "1000/1000 [==============================] - 0s 17us/step - loss: 2.2942 - acc: 0.1120\n",
      "Epoch 9/20\n",
      "1000/1000 [==============================] - 0s 18us/step - loss: 2.3108 - acc: 0.1010\n",
      "Epoch 10/20\n",
      "1000/1000 [==============================] - 0s 16us/step - loss: 2.3062 - acc: 0.1110\n",
      "Epoch 11/20\n",
      "1000/1000 [==============================] - 0s 15us/step - loss: 2.3053 - acc: 0.1100\n",
      "Epoch 12/20\n",
      "1000/1000 [==============================] - 0s 17us/step - loss: 2.2997 - acc: 0.1140\n",
      "Epoch 13/20\n",
      "1000/1000 [==============================] - 0s 17us/step - loss: 2.3002 - acc: 0.1160\n",
      "Epoch 14/20\n",
      "1000/1000 [==============================] - 0s 16us/step - loss: 2.3018 - acc: 0.1100\n",
      "Epoch 15/20\n",
      "1000/1000 [==============================] - 0s 16us/step - loss: 2.3022 - acc: 0.1120\n",
      "Epoch 16/20\n",
      "1000/1000 [==============================] - 0s 16us/step - loss: 2.3031 - acc: 0.1100\n",
      "Epoch 17/20\n",
      "1000/1000 [==============================] - 0s 19us/step - loss: 2.3014 - acc: 0.1170\n",
      "Epoch 18/20\n",
      "1000/1000 [==============================] - 0s 16us/step - loss: 2.2975 - acc: 0.1220\n",
      "Epoch 19/20\n",
      "1000/1000 [==============================] - 0s 16us/step - loss: 2.2934 - acc: 0.1160\n",
      "Epoch 20/20\n",
      "1000/1000 [==============================] - 0s 15us/step - loss: 2.2942 - acc: 0.1120\n",
      "100/100 [==============================] - 0s 209us/step\n"
     ]
    }
   ],
   "source": [
    "import keras\n",
    "from keras.models import Sequential\n",
    "from keras.layers import Dense, Dropout, Activation\n",
    "from keras.optimizers import SGD\n",
    "\n",
    "# Generate dummy data\n",
    "import numpy as np\n",
    "x_train = np.random.random((1000, 20))\n",
    "y_train = keras.utils.to_categorical(np.random.randint(10, size=(1000, 1)), num_classes=10)\n",
    "x_test = np.random.random((100, 20))\n",
    "y_test = keras.utils.to_categorical(np.random.randint(10, size=(100, 1)), num_classes=10)\n",
    "\n",
    "model = Sequential()\n",
    "# Dense(64) is a fully-connected layer with 64 hidden units.\n",
    "# in the first layer, you must specify the expected input data shape:\n",
    "# here, 20-dimensional vectors.\n",
    "model.add(Dense(64, activation='relu', input_dim=20))\n",
    "model.add(Dropout(0.5))\n",
    "model.add(Dense(64, activation='relu'))\n",
    "model.add(Dropout(0.5))\n",
    "model.add(Dense(10, activation='softmax'))\n",
    "\n",
    "sgd = SGD(lr=0.01, decay=1e-6, momentum=0.9, nesterov=True)\n",
    "model.compile(loss='categorical_crossentropy',\n",
    "              optimizer=sgd,\n",
    "              metrics=['accuracy'])\n",
    "\n",
    "model.fit(x_train, y_train,\n",
    "          epochs=20,\n",
    "          batch_size=128)\n",
    "score = model.evaluate(x_test, y_test, batch_size=128)"
   ]
  },
  {
   "cell_type": "code",
   "execution_count": 6,
   "metadata": {},
   "outputs": [
    {
     "data": {
      "text/plain": [
       "array([3, 3, 1, 1, 4, 4, 1, 1, 4, 4, 1, 4, 3, 1, 4, 1, 4, 4, 1, 4, 4, 1,\n",
       "       4, 1, 1, 4, 4, 4, 1, 1, 1, 4, 4, 4, 4, 1, 4, 4, 4, 4, 4, 4, 4, 9,\n",
       "       4, 4, 4, 4, 1, 4, 1, 4, 4, 4, 4, 4, 1, 4, 4, 4, 4, 4, 1, 4, 4, 9,\n",
       "       4, 4, 1, 4, 4, 4, 4, 4, 1, 4, 4, 1, 4, 4, 4, 4, 4, 1, 4, 4, 1, 1,\n",
       "       1, 1, 1, 1, 4, 1, 4, 4, 4, 1, 1, 1], dtype=int64)"
      ]
     },
     "execution_count": 6,
     "metadata": {},
     "output_type": "execute_result"
    }
   ],
   "source": [
    "model.predict_classes(x_test)"
   ]
  },
  {
   "cell_type": "code",
   "execution_count": 8,
   "metadata": {},
   "outputs": [],
   "source": [
    "from keras.utils import plot_model\n",
    "plot_model(model, to_file='model.png')"
   ]
  },
  {
   "cell_type": "code",
   "execution_count": null,
   "metadata": {},
   "outputs": [],
   "source": []
  }
 ],
 "metadata": {
  "kernelspec": {
   "display_name": "Python 3",
   "language": "python",
   "name": "python3"
  },
  "language_info": {
   "codemirror_mode": {
    "name": "ipython",
    "version": 3
   },
   "file_extension": ".py",
   "mimetype": "text/x-python",
   "name": "python",
   "nbconvert_exporter": "python",
   "pygments_lexer": "ipython3",
   "version": "3.5.5"
  },
  "widgets": {
   "state": {},
   "version": "1.1.2"
  }
 },
 "nbformat": 4,
 "nbformat_minor": 2
}
