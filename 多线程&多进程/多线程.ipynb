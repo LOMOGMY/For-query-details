{
 "cells": [
  {
   "cell_type": "code",
   "execution_count": 1,
   "metadata": {},
   "outputs": [],
   "source": [
    "import threading"
   ]
  },
  {
   "cell_type": "code",
   "execution_count": 6,
   "metadata": {},
   "outputs": [
    {
     "name": "stdout",
     "output_type": "stream",
     "text": [
      "5\n"
     ]
    }
   ],
   "source": [
    "def main():\n",
    "    print(threading.active_count()) #显示总线程数\n",
    "if __name__ == '__main__':\n",
    "    main()"
   ]
  },
  {
   "cell_type": "code",
   "execution_count": 5,
   "metadata": {},
   "outputs": [
    {
     "name": "stdout",
     "output_type": "stream",
     "text": [
      "5\n",
      "[<_MainThread(MainThread, started 3980)>, <Thread(Thread-4, started daemon 8824)>, <Heartbeat(Thread-5, started daemon 5324)>, <HistorySavingThread(IPythonHistorySavingThread, started 14672)>, <ParentPollerWindows(Thread-3, started daemon 4252)>]\n"
     ]
    }
   ],
   "source": [
    "def main():\n",
    "    print(threading.active_count())\n",
    "    print(threading.enumerate()) # 查看每个线程，其中第一个为主线程\n",
    "if __name__ == '__main__':\n",
    "    main()"
   ]
  },
  {
   "cell_type": "code",
   "execution_count": 7,
   "metadata": {},
   "outputs": [
    {
     "name": "stdout",
     "output_type": "stream",
     "text": [
      "5\n",
      "[<_MainThread(MainThread, started 3980)>, <Thread(Thread-4, started daemon 8824)>, <Heartbeat(Thread-5, started daemon 5324)>, <HistorySavingThread(IPythonHistorySavingThread, started 14672)>, <ParentPollerWindows(Thread-3, started daemon 4252)>]\n",
      "<_MainThread(MainThread, started 3980)>\n"
     ]
    }
   ],
   "source": [
    "def main():\n",
    "    print(threading.active_count())\n",
    "    print(threading.enumerate())\n",
    "    print(threading.current_thread()) # 查看现在运行的程序是哪个线程\n",
    "if __name__ == '__main__':\n",
    "    main()"
   ]
  },
  {
   "cell_type": "code",
   "execution_count": 8,
   "metadata": {},
   "outputs": [
    {
     "name": "stdout",
     "output_type": "stream",
     "text": [
      "This is an added Thread, number is <Thread(Thread-6, started 7988)>\n"
     ]
    }
   ],
   "source": [
    "def thread_job():\n",
    "    print('This is an added Thread, number is %s' % threading.current_thread())\n",
    "    # 打印这个线程的名称\n",
    "\n",
    "def main():\n",
    "    added_thread = threading.Thread(target = thread_job) # 增加一个线程，目标是thread_job这个函数\n",
    "    added_thread.start() # 运行这个线程\n",
    "    \n",
    "if __name__ == '__main__':\n",
    "    main()"
   ]
  },
  {
   "cell_type": "markdown",
   "metadata": {},
   "source": [
    "### join功能"
   ]
  },
  {
   "cell_type": "code",
   "execution_count": 9,
   "metadata": {},
   "outputs": [
    {
     "name": "stdout",
     "output_type": "stream",
     "text": [
      "T1 start\n",
      "\n",
      "All done\n",
      "\n",
      "T1 finish\n",
      "\n"
     ]
    }
   ],
   "source": [
    "import time\n",
    "def thread_job():\n",
    "    print('T1 start\\n')\n",
    "    for i in range(10):\n",
    "        time.sleep(0.1)\n",
    "    print('T1 finish\\n')\n",
    "    \n",
    "\n",
    "def main():\n",
    "    added_thread = threading.Thread(target = thread_job,name='T1') #也可以给线程命名为'T1' \n",
    "    added_thread.start() # 运行这个线程\n",
    "    print('All done\\n')\n",
    "    \n",
    "if __name__ == '__main__':\n",
    "    main()"
   ]
  },
  {
   "cell_type": "markdown",
   "metadata": {},
   "source": [
    "注意看结果的顺序，T1 finish实际是在1秒之后才print出来的，所以如果想所有线程都运行完后\n",
    "再print上述例子中的All done，则需要用到join，如下"
   ]
  },
  {
   "cell_type": "code",
   "execution_count": 10,
   "metadata": {},
   "outputs": [
    {
     "name": "stdout",
     "output_type": "stream",
     "text": [
      "T1 start\n",
      "\n",
      "T1 finish\n",
      "\n",
      "All done\n",
      "\n"
     ]
    }
   ],
   "source": [
    "import time\n",
    "def thread_job():\n",
    "    print('T1 start\\n')\n",
    "    for i in range(10):\n",
    "        time.sleep(0.1)\n",
    "    print('T1 finish\\n')\n",
    "    \n",
    "\n",
    "def main():\n",
    "    added_thread = threading.Thread(target = thread_job,name='T1') \n",
    "    added_thread.start() \n",
    "    added_thread.join() # 加入这行则要等上面执行完后再执行后面操作\n",
    "    print('All done\\n')\n",
    "    \n",
    "if __name__ == '__main__':\n",
    "    main()"
   ]
  },
  {
   "cell_type": "markdown",
   "metadata": {},
   "source": [
    "如果增加一个线程，不用join，如下"
   ]
  },
  {
   "cell_type": "code",
   "execution_count": 11,
   "metadata": {},
   "outputs": [
    {
     "name": "stdout",
     "output_type": "stream",
     "text": [
      "T1 start\n",
      "\n",
      "T2 start\n",
      "\n",
      "T2 finish\n",
      "\n",
      "All done\n",
      "\n",
      "T1 finish\n",
      "\n"
     ]
    }
   ],
   "source": [
    "import time\n",
    "def thread_job():\n",
    "    print('T1 start\\n')\n",
    "    for i in range(10):\n",
    "        time.sleep(0.1)\n",
    "    print('T1 finish\\n')\n",
    "    \n",
    "def T2_job():   # 执行所消耗的时间要小于thread_job函数\n",
    "    print('T2 start\\n')\n",
    "    print('T2 finish\\n')\n",
    "    \n",
    "def main():\n",
    "    added_thread = threading.Thread(target = thread_job,name='T1') \n",
    "    thread2 = threading.Thread(target = T2_job,name='T2')\n",
    "    added_thread.start() \n",
    "    thread2.start()\n",
    "    #added_thread.join() \n",
    "    print('All done\\n')\n",
    "    \n",
    "if __name__ == '__main__':\n",
    "    main()"
   ]
  },
  {
   "cell_type": "markdown",
   "metadata": {},
   "source": [
    "只加入thread_job的join"
   ]
  },
  {
   "cell_type": "code",
   "execution_count": 12,
   "metadata": {},
   "outputs": [
    {
     "name": "stdout",
     "output_type": "stream",
     "text": [
      "T1 start\n",
      "\n",
      "T2 start\n",
      "\n",
      "T2 finish\n",
      "\n",
      "T1 finish\n",
      "\n",
      "All done\n",
      "\n"
     ]
    }
   ],
   "source": [
    "import time\n",
    "def thread_job():\n",
    "    print('T1 start\\n')\n",
    "    for i in range(10):\n",
    "        time.sleep(0.1)\n",
    "    print('T1 finish\\n')\n",
    "    \n",
    "def T2_job():   # 执行所消耗的时间要小于thread_job函数\n",
    "    print('T2 start\\n')\n",
    "    print('T2 finish\\n')\n",
    "    \n",
    "def main():\n",
    "    added_thread = threading.Thread(target = thread_job,name='T1') \n",
    "    thread2 = threading.Thread(target = T2_job,name='T2')\n",
    "    added_thread.start() \n",
    "    thread2.start()\n",
    "    added_thread.join() \n",
    "    print('All done\\n')\n",
    "    \n",
    "if __name__ == '__main__':\n",
    "    main()"
   ]
  },
  {
   "cell_type": "markdown",
   "metadata": {},
   "source": [
    "只加入T2_job的join"
   ]
  },
  {
   "cell_type": "code",
   "execution_count": 13,
   "metadata": {},
   "outputs": [
    {
     "name": "stdout",
     "output_type": "stream",
     "text": [
      "T1 start\n",
      "\n",
      "T2 start\n",
      "\n",
      "T2 finish\n",
      "\n",
      "All done\n",
      "\n",
      "T1 finish\n",
      "\n"
     ]
    }
   ],
   "source": [
    "import time\n",
    "def thread_job():\n",
    "    print('T1 start\\n')\n",
    "    for i in range(10):\n",
    "        time.sleep(0.1)\n",
    "    print('T1 finish\\n')\n",
    "    \n",
    "def T2_job():   # 执行所消耗的时间要小于thread_job函数\n",
    "    print('T2 start\\n')\n",
    "    print('T2 finish\\n')\n",
    "    \n",
    "def main():\n",
    "    added_thread = threading.Thread(target = thread_job,name='T1') \n",
    "    thread2 = threading.Thread(target = T2_job,name='T2')\n",
    "    added_thread.start() \n",
    "    thread2.start()\n",
    "    thread2.join()\n",
    "    print('All done\\n')\n",
    "    \n",
    "if __name__ == '__main__':\n",
    "    main()"
   ]
  },
  {
   "cell_type": "markdown",
   "metadata": {},
   "source": [
    "两个都同时join，则就是等待T1和T2都完成后再执行后续操作"
   ]
  },
  {
   "cell_type": "code",
   "execution_count": 14,
   "metadata": {},
   "outputs": [
    {
     "name": "stdout",
     "output_type": "stream",
     "text": [
      "T1 start\n",
      "\n",
      "T2 start\n",
      "\n",
      "T2 finish\n",
      "\n",
      "T1 finish\n",
      "\n",
      "All done\n",
      "\n"
     ]
    }
   ],
   "source": [
    "import time\n",
    "def thread_job():\n",
    "    print('T1 start\\n')\n",
    "    for i in range(10):\n",
    "        time.sleep(0.1)\n",
    "    print('T1 finish\\n')\n",
    "    \n",
    "def T2_job():   # 执行所消耗的时间要小于thread_job函数\n",
    "    print('T2 start\\n')\n",
    "    print('T2 finish\\n')\n",
    "    \n",
    "def main():\n",
    "    added_thread = threading.Thread(target = thread_job,name='T1') \n",
    "    thread2 = threading.Thread(target = T2_job,name='T2')\n",
    "    added_thread.start() \n",
    "    thread2.start()\n",
    "    thread2.join()\n",
    "    added_thread.join() \n",
    "    \n",
    "    print('All done\\n')\n",
    "    \n",
    "if __name__ == '__main__':\n",
    "    main()"
   ]
  },
  {
   "cell_type": "markdown",
   "metadata": {},
   "source": [
    "### 多线程Queue功能\n",
    "- 由于线程中没有办法返回一个值，所以需要用到queue"
   ]
  },
  {
   "cell_type": "code",
   "execution_count": 17,
   "metadata": {},
   "outputs": [
    {
     "name": "stdout",
     "output_type": "stream",
     "text": [
      "[[1, 4, 9], [9, 16, 25], [16, 16, 16], [25, 25, 25]]\n"
     ]
    }
   ],
   "source": [
    "import threading\n",
    "import time\n",
    "from queue import Queue\n",
    "\n",
    "def job(l,q):  # 参数l为list，列表\n",
    "    for i in range(len(l)):\n",
    "        l[i] = l[i]**2\n",
    "    q.put(l)   # 这里不能用return，需要将return的东西放到q里面\n",
    "\n",
    "def multithreading():\n",
    "    q = Queue()  # 用它来记录job的返回值，来代替return的功能\n",
    "    threads = [] # 将所有线程放入此列表中\n",
    "    data = [[1,2,3],\n",
    "            [3,4,5],\n",
    "            [4,4,4],\n",
    "            [5,5,5]]\n",
    "    for i in range(4):  # 定义四个线程\n",
    "        t = threading.Thread(target=job,args=(data[i],q)) # 注意：往job函数中加入参数的时候应该加到后面的args里面\n",
    "        t.start()\n",
    "        threads.append(t)\n",
    "        \n",
    "    for thread in threads:\n",
    "        thread.join()\n",
    "    \n",
    "    results = [] # 储存最终结果\n",
    "    for _ in range(4): # 这4次需要取出q里面的值\n",
    "        results.append(q.get()) # q.get()每次会拿出一个列表\n",
    "    print(results)\n",
    "    \n",
    "if __name__ == '__main__':\n",
    "    multithreading()"
   ]
  },
  {
   "cell_type": "markdown",
   "metadata": {},
   "source": [
    "### GIL不一定有效率\n",
    "\n",
    "为什么说 python 的多线程 threading 有时候并不是特别理想。最主要的原因是就是, Python 的设计上, 有一个必要的环节, 就是 Global Interpreter Lock (GIL)。 这个东西让 Python 还是一次性只能处理一个东西。"
   ]
  },
  {
   "cell_type": "markdown",
   "metadata": {},
   "source": [
    "尽管Python完全支持多线程编程， 但是解释器的C语言实现部分在完全并行执行时并不是线程安全的。 实际上，解释器被一个全局解释器锁保护着，它确保任何时候都只有一个Python线程执行。 GIL最大的问题就是Python的多线程程序并不能利用多核CPU的优势 （比如一个使用了多个线程的计算密集型程序只会在一个单CPU上面运行）。\n",
    "\n",
    "在讨论普通的GIL之前，有一点要强调的是GIL**只会影响到那些严重依赖CPU的程序**（比如计算型的）。**如果程序大部分只会涉及到I/O，比如网络交互，那么使用多线程就很合适**， 因为它们大部分时间都在等待。实际上，你完全可以放心的创建几千个Python线程，现代操作系统运行这么多线程没有任何压力，没啥可担心的。"
   ]
  },
  {
   "cell_type": "markdown",
   "metadata": {},
   "source": [
    "### 测试GIL"
   ]
  },
  {
   "cell_type": "markdown",
   "metadata": {},
   "source": [
    "创建一个 job, 分别用 threading和一般的方式执行这段程序. 并且创建一个 list 来存放要处理的数据. 在 Normal 的时候, 这个 list 扩展4倍, 在 threading 的时候, 建立4个线程, 并对运行时间进行对比."
   ]
  },
  {
   "cell_type": "code",
   "execution_count": 18,
   "metadata": {},
   "outputs": [
    {
     "name": "stdout",
     "output_type": "stream",
     "text": [
      "1999998000000\n",
      "normal:  0.17555665969848633\n",
      "1999998000000\n",
      "multithreading:  0.15511584281921387\n"
     ]
    }
   ],
   "source": [
    "import threading\n",
    "from queue import Queue\n",
    "import copy\n",
    "import time\n",
    "\n",
    "def job(l, q):\n",
    "    res = sum(l)\n",
    "    q.put(res)\n",
    "\n",
    "def multithreading(l):\n",
    "    q = Queue()\n",
    "    threads = []\n",
    "    for i in range(4):\n",
    "        t = threading.Thread(target=job, args=(copy.copy(l), q), name='T%i' % i)\n",
    "        t.start()\n",
    "        threads.append(t)\n",
    "    [t.join() for t in threads]\n",
    "    total = 0\n",
    "    for _ in range(4):\n",
    "        total += q.get()\n",
    "    print(total)\n",
    "\n",
    "def normal(l):\n",
    "    total = sum(l)\n",
    "    print(total)\n",
    "\n",
    "if __name__ == '__main__':\n",
    "    l = list(range(1000000))\n",
    "    s_t = time.time()\n",
    "    normal(l*4)\n",
    "    print('normal: ',time.time()-s_t)\n",
    "    s_t = time.time()\n",
    "    multithreading(l)\n",
    "    print('multithreading: ', time.time()-s_t)"
   ]
  },
  {
   "cell_type": "markdown",
   "metadata": {},
   "source": [
    "程序 threading 和 Normal 运行了一样多次的运算. 但是发现 threading 却没有快多少, 按理来说, 预期会要快3-4倍, 因为有建立4个线程, 但是并没有. 这就是其中的 GIL 在影响."
   ]
  },
  {
   "cell_type": "markdown",
   "metadata": {},
   "source": [
    "### 线程锁\n",
    "- 期望第一个线程处理完的东西输入到第二个线程中"
   ]
  },
  {
   "cell_type": "code",
   "execution_count": 19,
   "metadata": {},
   "outputs": [
    {
     "name": "stdout",
     "output_type": "stream",
     "text": [
      "job1 1\n",
      "job1 2\n",
      "job1 3job2 13\n",
      "job2 23\n",
      "job2 33\n",
      "job2 43\n",
      "job2 53\n",
      "job2 63\n",
      "job2 73\n",
      "job2 83\n",
      "job2\n",
      "job1 94\n",
      "job1 95\n",
      "job1 96\n",
      "job1 97\n",
      "job1 98\n",
      " 93\n",
      "job2 108\n",
      "job1 109\n",
      "job1 110\n"
     ]
    }
   ],
   "source": [
    "# 不加限制\n",
    "\n",
    "import threading\n",
    "\n",
    "def job1():\n",
    "    global A  # 定义一个全局变量\n",
    "    for i in range(10):\n",
    "        A += 1\n",
    "        print('job1',A)\n",
    "\n",
    "def job2():\n",
    "    global A\n",
    "    for i in range(10):\n",
    "        A += 10\n",
    "        print('job2',A)\n",
    "    \n",
    "if __name__== '__main__':\n",
    "    A=0\n",
    "    t1=threading.Thread(target=job1)\n",
    "    t2=threading.Thread(target=job2)\n",
    "    t1.start()\n",
    "    t2.start()\n",
    "    t1.join()\n",
    "    t2.join()"
   ]
  },
  {
   "cell_type": "markdown",
   "metadata": {},
   "source": [
    "会发现print的东西很乱，下面演示让job1运算完后再运行job2"
   ]
  },
  {
   "cell_type": "code",
   "execution_count": 20,
   "metadata": {},
   "outputs": [
    {
     "name": "stdout",
     "output_type": "stream",
     "text": [
      "job1 1\n",
      "job1 2\n",
      "job1 3\n",
      "job1 4\n",
      "job1 5\n",
      "job1 6\n",
      "job1 7\n",
      "job1 8\n",
      "job1 9\n",
      "job1 10\n",
      "job2 20\n",
      "job2 30\n",
      "job2 40\n",
      "job2 50\n",
      "job2 60\n",
      "job2 70\n",
      "job2 80\n",
      "job2 90\n",
      "job2 100\n",
      "job2 110\n"
     ]
    }
   ],
   "source": [
    "# 加上限制\n",
    "\n",
    "import threading\n",
    "\n",
    "def job1():\n",
    "    global A,lock  # 将lock也设置为全局变量\n",
    "    lock.acquire() # 开始lock住它\n",
    "    for i in range(10):\n",
    "        A += 1\n",
    "        print('job1',A)\n",
    "    lock.release() # 结束这个锁，在运行这之间的程序时，其它线程不会接触到它\n",
    "\n",
    "def job2():\n",
    "    global A,lock\n",
    "    lock.acquire()\n",
    "    for i in range(10):\n",
    "        A += 10\n",
    "        print('job2',A)\n",
    "    lock.release()\n",
    "    \n",
    "if __name__== '__main__':\n",
    "    lock = threading.Lock() # 定义一个锁\n",
    "    A=0\n",
    "    t1=threading.Thread(target=job1)\n",
    "    t2=threading.Thread(target=job2)\n",
    "    t1.start()\n",
    "    t2.start()\n",
    "    t1.join()\n",
    "    t2.join()"
   ]
  },
  {
   "cell_type": "markdown",
   "metadata": {},
   "source": [
    "这样两个线程之间就不会相互影响了"
   ]
  }
 ],
 "metadata": {
  "kernelspec": {
   "display_name": "Python 3",
   "language": "python",
   "name": "python3"
  },
  "language_info": {
   "codemirror_mode": {
    "name": "ipython",
    "version": 3
   },
   "file_extension": ".py",
   "mimetype": "text/x-python",
   "name": "python",
   "nbconvert_exporter": "python",
   "pygments_lexer": "ipython3",
   "version": "3.6.3"
  }
 },
 "nbformat": 4,
 "nbformat_minor": 2
}
