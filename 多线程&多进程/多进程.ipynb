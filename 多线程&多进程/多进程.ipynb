{
 "cells": [
  {
   "cell_type": "markdown",
   "metadata": {},
   "source": [
    "### 和threading的比较"
   ]
  },
  {
   "cell_type": "markdown",
   "metadata": {},
   "source": [
    "多进程 Multiprocessing 和多线程 threading 类似, 都是在 python 中用来并行运算的. \n",
    "不过既然有了threading, 为什么 Python 还要出一个 multiprocessing 呢? 原因很简单, 就是用来弥补 threading 的一些劣势, 比如在 threading 中的GIL.\n",
    "\n",
    "使用 multiprocessing 也非常简单, python 把 multiprocessing 和 threading 的使用方法做的几乎差不多."
   ]
  },
  {
   "cell_type": "code",
   "execution_count": 1,
   "metadata": {},
   "outputs": [],
   "source": [
    "import multiprocessing as mp\n",
    "#import threading as td\n",
    "\n",
    "def job(a,d):\n",
    "    print('aaaaa')\n",
    "\n",
    "if __name__ == '__main__':  # 使用多进程，必须要写这一行，格式要求！\n",
    "    p1 = mp.Process(target = job,args=(1,2))\n",
    "    p1.start()\n",
    "    p1.join()"
   ]
  },
  {
   "cell_type": "markdown",
   "metadata": {},
   "source": [
    "注意：上面的运行在notebook中会没有结果，需要在terminal或prompt中运行才有结果"
   ]
  },
  {
   "cell_type": "markdown",
   "metadata": {},
   "source": [
    "### Queue功能"
   ]
  },
  {
   "cell_type": "code",
   "execution_count": null,
   "metadata": {},
   "outputs": [],
   "source": [
    "import multiprocessing as mp\n",
    "\n",
    "def job(q):\n",
    "    res = 0\n",
    "    for i in range(1000):\n",
    "        res += i+i**2+i**3\n",
    "    q.put(res)  # queue\n",
    "\n",
    "if __name__ == '__main__':  \n",
    "    q = mp.Queue()\n",
    "    p1 = mp.Process(target = job,args=(q,))\n",
    "    p2 = mp.Process(target = job,args=(q,)) # 加\",\"的原因是args里面的东西有可能是可以迭代的。\n",
    "    p1.start()\n",
    "    p2.start()\n",
    "    p1.join()\n",
    "    p2.join()\n",
    "    res1 = q.get()\n",
    "    res2 = q.get()\n",
    "    print(res1+res2)"
   ]
  },
  {
   "cell_type": "markdown",
   "metadata": {},
   "source": [
    "还是需要在terminal或prompt中执行"
   ]
  },
  {
   "cell_type": "markdown",
   "metadata": {},
   "source": [
    "### 效率对比"
   ]
  },
  {
   "cell_type": "markdown",
   "metadata": {},
   "source": [
    "- 创建多进程 multiprocessing"
   ]
  },
  {
   "cell_type": "code",
   "execution_count": null,
   "metadata": {},
   "outputs": [
    {
     "name": "stdout",
     "output_type": "stream",
     "text": [
      "normal: 499999666667166666000000\n",
      "normal time: 1.5457499027252197\n",
      "multithread: 499999666667166666000000\n",
      "multithread time: 1.557366132736206\n"
     ]
    }
   ],
   "source": [
    "import multiprocessing as mp\n",
    "import threading as td\n",
    "import time\n",
    "\n",
    "def job(q):\n",
    "    res = 0\n",
    "    for i in range(1000000):\n",
    "        res += i+i**2+i**3\n",
    "    q.put(res)  # queue\n",
    "\n",
    "def multicore():\n",
    "    q = mp.Queue()\n",
    "    p1 = mp.Process(target = job,args=(q,))\n",
    "    p2 = mp.Process(target = job,args=(q,)) # 加\",\"的原因是args里面的东西有可能是可以迭代的。\n",
    "    p1.start()\n",
    "    p2.start()\n",
    "    p1.join()\n",
    "    p2.join()\n",
    "    res1 = q.get()\n",
    "    res2 = q.get()\n",
    "    print('multicore:',res1 + res2)\n",
    "  \n",
    "def normal():\n",
    "    res = 0\n",
    "    for _ in range(2):\n",
    "        for i in range(1000000):\n",
    "            res += i + i**2 + i**3\n",
    "    print('normal:', res)\n",
    "    \n",
    "def multithread():\n",
    "    q = mp.Queue()  # 线程放到进程的队列中没有什么问题\n",
    "    t1 = td.Thread(target = job,args=(q,))\n",
    "    t2 = td.Thread(target = job,args=(q,)) # 加\",\"的原因是args里面的东西有可能是可以迭代的。\n",
    "    t1.start()\n",
    "    t2.start()\n",
    "    t1.join()\n",
    "    t2.join()\n",
    "    res1 = q.get()\n",
    "    res2 = q.get()\n",
    "    print('multithread:', res1 + res2)\n",
    "    \n",
    "    \n",
    "if __name__ == '__main__':  \n",
    "    st = time.time()\n",
    "    normal()\n",
    "    st1 = time.time()\n",
    "    print('normal time:', st1 - st)\n",
    "    multithread()\n",
    "    st2 = time.time()\n",
    "    print('multithread time:', st2 - st1)\n",
    "    multicore()\n",
    "    print('multicore time:', time.time() - st2)"
   ]
  },
  {
   "cell_type": "markdown",
   "metadata": {},
   "source": [
    "在prompt中运行的结果为\n",
    "\n",
    "normal: 499999666667166666000000\n",
    "\n",
    "**normal time: 1.5386521816253662**\n",
    "\n",
    "multithread: 499999666667166666000000\n",
    "\n",
    "**multithread time: 1.5308480262756348**\n",
    "\n",
    "multicore: 499999666667166666000000\n",
    "\n",
    "**multicore time: 0.9713168144226074**"
   ]
  },
  {
   "cell_type": "markdown",
   "metadata": {},
   "source": [
    "运行时间是 多进程 < 普通 < 多线程"
   ]
  },
  {
   "cell_type": "markdown",
   "metadata": {},
   "source": [
    "### 进程池"
   ]
  },
  {
   "cell_type": "code",
   "execution_count": null,
   "metadata": {},
   "outputs": [],
   "source": [
    "import multiprocessing as mp\n",
    "\n",
    "def job(x):\n",
    "    return x*x\n",
    "\n",
    "def multicore():\n",
    "    pool = mp.Pool(processes=3) #指定用3个核，默认为全部核\n",
    "    \n",
    "    res = pool.map(job,range(10))\n",
    "    print(res)   # 返回结果为 [0, 1, 4, 9, 16, 25, 36, 49, 64, 81]\n",
    "    \n",
    "    res = pool.apply_async(job,(2,))\n",
    "    print(res.get())  # 返回结果为 4，即用2*2\n",
    "    \n",
    "    # 迭代器，i=0时apply一次，i=1时apply一次等等\n",
    "    multi_res = [pool.apply_async(job,(i,)) for i in range(10)]\n",
    "    # 从迭代器中取出\n",
    "    print([res.get() for res in multi_res]) #返回[0, 1, 4, 9, 16, 25, 36, 49, 64, 81]\n",
    "    \n",
    "if __name__ == '__main__':\n",
    "    multicore()"
   ]
  },
  {
   "cell_type": "markdown",
   "metadata": {},
   "source": [
    "### 共享内存\n",
    "\n",
    "多进程中不能用全局变量，所以需要共享内存"
   ]
  },
  {
   "cell_type": "markdown",
   "metadata": {},
   "source": [
    "各参数代表的数据类型\n",
    "\n",
    "| Type code | C Type             | Python Type       | Minimum size in bytes |\n",
    "| --------- | ------------------ | ----------------- | --------------------- |\n",
    "| `'b'`     | signed char        | int               | 1                     |\n",
    "| `'B'`     | unsigned char      | int               | 1                     |\n",
    "| `'u'`     | Py_UNICODE         | Unicode character | 2                     |\n",
    "| `'h'`     | signed short       | int               | 2                     |\n",
    "| `'H'`     | unsigned short     | int               | 2                     |\n",
    "| `'i'`     | signed int         | int               | 2                     |\n",
    "| `'I'`     | unsigned int       | int               | 2                     |\n",
    "| `'l'`     | signed long        | int               | 4                     |\n",
    "| `'L'`     | unsigned long      | int               | 4                     |\n",
    "| `'q'`     | signed long long   | int               | 8                     |\n",
    "| `'Q'`     | unsigned long long | int               | 8                     |\n",
    "| `'f'`     | float              | float             | 4                     |\n",
    "| `'d'`     | double             | float             | 8                     |"
   ]
  },
  {
   "cell_type": "code",
   "execution_count": 2,
   "metadata": {},
   "outputs": [],
   "source": [
    "import multiprocessing as mp\n",
    "\n",
    "value = mp.Value('d',1) # 定义type，这是一个共享内存\n",
    "array = mp.Array('i',[1,3,4]) # 这个array只能是一个列表(一维列表)，不能是多维的\n"
   ]
  },
  {
   "cell_type": "markdown",
   "metadata": {},
   "source": [
    "### 进程锁"
   ]
  },
  {
   "cell_type": "code",
   "execution_count": null,
   "metadata": {},
   "outputs": [],
   "source": [
    "# 不加进程锁\n",
    "import multiprocessing as mp\n",
    "import time\n",
    "\n",
    "def job(v,num):\n",
    "    for _ in range(10):\n",
    "        time.sleep(0.1)\n",
    "        v.value += num   # 每次对共享内存中的value＋num\n",
    "        print(v.value)\n",
    "\n",
    "def multicore():\n",
    "    v = mp.Value('i',0)  # v为共享内存中的值\n",
    "    p1 = mp.Process(target=job, args=(v,1))\n",
    "    p2 = mp.Process(target=job, args=(v,3)) # 设定不同的number看如何抢夺内存\n",
    "    p1.start()\n",
    "    p2.start()\n",
    "    p1.join()\n",
    "    p2.join()\n",
    "    \n",
    "if __name__ == '__main__':\n",
    "    multicore()"
   ]
  },
  {
   "cell_type": "markdown",
   "metadata": {},
   "source": [
    "输出结果为：\n",
    "1\n",
    "1\n",
    "4\n",
    "5\n",
    "8\n",
    "9\n",
    "12\n",
    "13\n",
    "16\n",
    "17\n",
    "20\n",
    "21\n",
    "24\n",
    "25\n",
    "28\n",
    "29\n",
    "32\n",
    "33\n",
    "36\n",
    "37\n",
    "\n",
    "\n",
    "这是在争夺内存，因此需要加上锁"
   ]
  },
  {
   "cell_type": "code",
   "execution_count": null,
   "metadata": {},
   "outputs": [],
   "source": [
    "# 加进程锁\n",
    "import multiprocessing as mp\n",
    "import time\n",
    "\n",
    "def job(v,num,l):   # l为锁\n",
    "    l.acquire() # 锁住\n",
    "    for _ in range(10):\n",
    "        time.sleep(0.1)\n",
    "        v.value += num   # 每次对共享内存中的value＋num\n",
    "        print(v.value)\n",
    "    l.release() # 释放\n",
    "    \n",
    "def multicore():\n",
    "    l = mp.Lock()\n",
    "    v = mp.Value('i',0)  \n",
    "    p1 = mp.Process(target=job, args=(v,1,l)) # 需要将lock传入\n",
    "    p2 = mp.Process(target=job, args=(v,3,l)) \n",
    "    p1.start()\n",
    "    p2.start()\n",
    "    p1.join()\n",
    "    p2.join()\n",
    "    \n",
    "if __name__ == '__main__':\n",
    "    multicore()"
   ]
  },
  {
   "cell_type": "markdown",
   "metadata": {},
   "source": [
    "运行的可能结果有两种\n",
    "\n",
    "3\n",
    "6\n",
    "9\n",
    "12\n",
    "15\n",
    "18\n",
    "21\n",
    "24\n",
    "27\n",
    "30\n",
    "31\n",
    "32\n",
    "33\n",
    "34\n",
    "35\n",
    "36\n",
    "37\n",
    "38\n",
    "39\n",
    "40\n",
    "\n",
    "或\n",
    "\n",
    "1\n",
    "2\n",
    "3\n",
    "4\n",
    "5\n",
    "6\n",
    "7\n",
    "8\n",
    "9\n",
    "10\n",
    "13\n",
    "16\n",
    "19\n",
    "22\n",
    "25\n",
    "28\n",
    "31\n",
    "34\n",
    "37\n",
    "40"
   ]
  }
 ],
 "metadata": {
  "kernelspec": {
   "display_name": "Python 3",
   "language": "python",
   "name": "python3"
  },
  "language_info": {
   "codemirror_mode": {
    "name": "ipython",
    "version": 3
   },
   "file_extension": ".py",
   "mimetype": "text/x-python",
   "name": "python",
   "nbconvert_exporter": "python",
   "pygments_lexer": "ipython3",
   "version": "3.6.3"
  }
 },
 "nbformat": 4,
 "nbformat_minor": 2
}
