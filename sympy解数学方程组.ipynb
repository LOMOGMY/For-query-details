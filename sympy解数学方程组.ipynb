{
 "cells": [
  {
   "cell_type": "code",
   "execution_count": 2,
   "metadata": {},
   "outputs": [
    {
     "data": {
      "text/plain": [
       "{a: 35*d/27 - 1/9, b: 2*d/27 + 2/9, c: -10*d/27 + 8/9}"
      ]
     },
     "execution_count": 2,
     "metadata": {},
     "output_type": "execute_result"
    }
   ],
   "source": [
    "from sympy import *\n",
    "import numpy as np\n",
    "\n",
    "a,b,c,d = symbols('a b c d')\n",
    "\n",
    "X1 = a+b+c-d-1\n",
    "X2 = 2*a-3*b+c-2*d\n",
    "X3 = 3*a-5*d-3*c+3\n",
    "\n",
    "solve([X1,X2,X3],[a,b,c])  # 解abc，都用d来表示"
   ]
  },
  {
   "cell_type": "code",
   "execution_count": 59,
   "metadata": {},
   "outputs": [],
   "source": [
    "from sympy import *\n",
    "import numpy as np\n",
    "F_fu,h,F_feng,F1,A,B,F2,alpha1,C,F3,alpha2,D,F4,alpha3,E,F5,alpha4,F,F6,alpha5 = symbols('F_fu h F_feng F1 A B F2 alpha1 C F3 alpha2 D F4 alpha3 E F5 alpha4 F F6 alpha5')\n",
    "\n",
    "# % 浮标\n",
    "a = F_feng - F1*cos(A); #% 1\n",
    "b = F1*sin(A) + 1000*9.8 - F_fu; #% 2 \n",
    "c = F_feng-0.625*2*(2-h)*np.power(12,2); #% 3\n",
    "d = F_fu-1.025*1000*9.8*pi*h #% 4\n",
    "e = 0.3-h"
   ]
  },
  {
   "cell_type": "code",
   "execution_count": 62,
   "metadata": {},
   "outputs": [
    {
     "data": {
      "text/plain": [
       "[(9467.18946159284,\n",
       "  306.000000000000,\n",
       "  -452.104915340303,\n",
       "  2.31424963842893,\n",
       "  0.300000000000000),\n",
       " (9467.18946159284,\n",
       "  306.000000000000,\n",
       "  452.104915340303,\n",
       "  5.45584229201872,\n",
       "  0.300000000000000)]"
      ]
     },
     "execution_count": 62,
     "metadata": {},
     "output_type": "execute_result"
    }
   ],
   "source": [
    "solve([a,b,c,d,e],[F_fu,F_feng,F1,A,h])"
   ]
  },
  {
   "cell_type": "code",
   "execution_count": null,
   "metadata": {},
   "outputs": [],
   "source": []
  },
  {
   "cell_type": "raw",
   "metadata": {
    "collapsed": true
   },
   "source": [
    "from sympy import *\n",
    "import numpy as np\n",
    "F_fu,h,F_feng,F1,A,B,F2,alpha1,C,F3,alpha2,D,F4,alpha3,E,F5,alpha4,F,F6,alpha5 = symbols('F_fu h F_feng F1 A B F2 alpha1 C F3 alpha2 D F4 alpha3 E F5 alpha4 F F6 alpha5')\n",
    "\n",
    "# % 浮标\n",
    "a = F_feng - F1*cos(A); #% 1\n",
    "b = F1*sin(A) + 1000*9.8 - F_fu; #% 2 \n",
    "c = F_feng-0.625*2*(2-h)*np.power(12,2); #% 3\n",
    "d = F_fu-1.025*1000*9.8*pi*h #% 4\n",
    "dd = h-0.1\n",
    "\n",
    "# % 杠杆1\n",
    "e = tan(A)+tan(B)-2*tan(alpha1); #% 5\n",
    "f = tan(A)-tan(B)-(10*9.8-1.025*1000*9.8*pi*np.power(0.025,2))/(F1*cos(A)); #% 6\n",
    "g = F1*cos(A)-F2*cos(B); #% 7\n",
    "\n",
    "#% 杠杆2\n",
    "h = tan(B)+tan(C)-2*tan(alpha2); #% 8\n",
    "i = tan(B)-tan(C)-(10*9.8-1.025*1000*9.8*pi*np.power(0.025,2))/(F2*cos(B)); #% 9\n",
    "j = F2*cos(B)-F3*cos(C); #% 10\n",
    "\n",
    "\n",
    "#% 杠杆3\n",
    "k = tan(C)+tan(D)-2*tan(alpha3); #% 11\n",
    "l = tan(C)-tan(D)-(10*9.8-1.025*1000*9.8*pi*np.power(0.025,2))/(F3*cos(C)); #% 12\n",
    "m = F3*cos(C)-F4*cos(D); #% 13\n",
    "\n",
    "#% 杠杆4\n",
    "n = tan(D)+tan(E)-2*tan(alpha4); #% 14\n",
    "o = tan(D)-tan(E)-(10*9.8-1.025*1000*9.8*pi*np.power(0.025,2))/(F4*cos(D)); # % 15\n",
    "p = F4*cos(D)-F5*cos(E); #% 16\n",
    "\n",
    "#% 钢桶\n",
    "q = tan(E)-tan(F)-((100+1200)*9.8-1.025*1000*9.8*pi*np.power(0.15,2))/(F5*cos(E)); #% 17\n",
    "r = F5*cos(E)-F6*cos(F); #% 18\n",
    "s = F5*cos(E) - (1200*9.8)*tan(alpha5)/(tan(E)-2*tan(alpha5)+tan(F)); #% 19\n",
    "\n",
    "#% 总体\n",
    "t = 1000*9.8+4*10*9.8+(100+1200)*9.8+F6*sin(F) - F_fu - 4*1.025*1000*9.8*pi*np.power(0.025,2) - 1.025*1000*9.8*pi*np.power(0.15,2);\n",
    "\n",
    "\n",
    "s = solve([a,b,c,d,dd,e,f,g,h,i,j,k,l,m,n,o,p,q,r,s,t],[F_fu,h,F_feng,F1,A,B,F2,alpha1,C,F3,alpha2,D,F4,alpha3,E,F5,alpha4,F,F6,alpha5])\n",
    "s"
   ]
  },
  {
   "cell_type": "code",
   "execution_count": 66,
   "metadata": {},
   "outputs": [
    {
     "data": {
      "text/plain": [
       "[(31557.2982053095*h,\n",
       "  -180.0*h + 360.0,\n",
       "  -5.0*sqrt(39835818.8007531*h**2 - 24746105.7929626*h + 3846784.0),\n",
       "  -acos(36.0*(h - 2.0)/sqrt(39835818.8007531*h**2 - 24746105.7929626*h + 3846784.0)) + 6.28318530717959),\n",
       " (31557.2982053095*h,\n",
       "  -180.0*h + 360.0,\n",
       "  -5.0*sqrt(39835818.8007531*h**2 - 24746105.7929626*h + 3846784.0),\n",
       "  acos(36.0*(h - 2.0)/sqrt(39835818.8007531*h**2 - 24746105.7929626*h + 3846784.0))),\n",
       " (31557.2982053095*h,\n",
       "  -180.0*h + 360.0,\n",
       "  5.0*sqrt(39835818.8007531*h**2 - 24746105.7929626*h + 3846784.0),\n",
       "  -acos(-36.0*(h - 2.0)/sqrt(39835818.8007531*h**2 - 24746105.7929626*h + 3846784.0)) + 6.28318530717959),\n",
       " (31557.2982053095*h,\n",
       "  -180.0*h + 360.0,\n",
       "  5.0*sqrt(39835818.8007531*h**2 - 24746105.7929626*h + 3846784.0),\n",
       "  acos(36.0*(-h + 2.0)/sqrt(39835818.8007531*h**2 - 24746105.7929626*h + 3846784.0)))]"
      ]
     },
     "execution_count": 66,
     "metadata": {},
     "output_type": "execute_result"
    }
   ],
   "source": [
    "from sympy import *\n",
    "import numpy as np\n",
    "F_fu,h,F_feng,F1,A,B,F2,alpha1,C,F3,alpha2,D,F4,alpha3,E,F5,alpha4,F,F6,alpha5 = symbols('F_fu h F_feng F1 A B F2 alpha1 C F3 alpha2 D F4 alpha3 E F5 alpha4 F F6 alpha5')\n",
    "\n",
    "# % 浮标\n",
    "a = F_feng - F1*cos(A); #% 1\n",
    "b = F1*sin(A) + 1000*9.8 - F_fu; #% 2 \n",
    "c = F_feng-0.625*2*(2-h)*np.power(12,2); #% 3\n",
    "d = F_fu-1.025*1000*9.8*pi*h #% 4\n",
    "dd = h-0.1\n",
    "\n",
    "solve([a,b,c,d],[F_fu,F_feng,F1,A])"
   ]
  },
  {
   "cell_type": "code",
   "execution_count": null,
   "metadata": {},
   "outputs": [],
   "source": []
  },
  {
   "cell_type": "code",
   "execution_count": null,
   "metadata": {},
   "outputs": [],
   "source": []
  },
  {
   "cell_type": "code",
   "execution_count": null,
   "metadata": {},
   "outputs": [],
   "source": []
  },
  {
   "cell_type": "code",
   "execution_count": null,
   "metadata": {},
   "outputs": [],
   "source": []
  }
 ],
 "metadata": {
  "kernelspec": {
   "display_name": "Python 3",
   "language": "python",
   "name": "python3"
  },
  "language_info": {
   "codemirror_mode": {
    "name": "ipython",
    "version": 3
   },
   "file_extension": ".py",
   "mimetype": "text/x-python",
   "name": "python",
   "nbconvert_exporter": "python",
   "pygments_lexer": "ipython3",
   "version": "3.6.3"
  }
 },
 "nbformat": 4,
 "nbformat_minor": 2
}
